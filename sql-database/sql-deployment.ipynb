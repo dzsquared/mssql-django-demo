{
    "metadata": {
        "kernelspec": {
            "name": "powershell",
            "display_name": "PowerShell",
            "language": "powershell"
        },
        "language_info": {
            "name": "powershell",
            "codemirror_mode": "shell",
            "mimetype": "text/x-sh",
            "file_extension": ".ps1"
        }
    },
    "nbformat_minor": 2,
    "nbformat": 4,
    "cells": [
        {
            "cell_type": "code",
            "source": [
                "docker containers ls"
            ],
            "metadata": {
                "azdata_cell_guid": "1df41d3e-296e-4e01-ad79-73c659f2f090"
            },
            "outputs": [
                {
                    "output_type": "stream",
                    "name": "stdout",
                    "text": "docker: 'containers' is not a docker command.\nSee 'docker --help'\n. {\n>> docker containers ls\n>> }\n>> \n"
                }
            ],
            "execution_count": 2
        }
    ]
}