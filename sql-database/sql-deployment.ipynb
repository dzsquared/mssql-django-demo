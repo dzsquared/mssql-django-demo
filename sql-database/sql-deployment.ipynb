{
    "metadata": {
        "kernelspec": {
            "name": "powershell",
            "display_name": "PowerShell",
            "language": "powershell"
        },
        "language_info": {
            "name": "powershell",
            "codemirror_mode": "shell",
            "mimetype": "text/x-sh",
            "file_extension": ".ps1"
        }
    },
    "nbformat_minor": 2,
    "nbformat": 4,
    "cells": [
        {
            "cell_type": "markdown",
            "source": [
                "## Check for local SQL containers"
            ],
            "metadata": {
                "azdata_cell_guid": "25e34eeb-f891-49e2-8558-96fb838d1f37"
            }
        },
        {
            "cell_type": "code",
            "source": [
                "docker container ls -a -f label=sqldev"
            ],
            "metadata": {
                "azdata_cell_guid": "1df41d3e-296e-4e01-ad79-73c659f2f090"
            },
            "outputs": [
                {
                    "name": "stdout",
                    "text": "CONTAINER ID   IMAGE                              COMMAND                  CREATED         STATUS         PORTS                                                 NAMES\nb3bd21355ec3   mcr.microsoft.com/azure-sql-edge   \"/opt/mssql/bin/perm…\"   2 minutes ago   Up 6 seconds   1401/tcp, 0.0.0.0:1433->1433/tcp, :::1433->1433/tcp   azuresqledge\n",
                    "output_type": "stream"
                }
            ],
            "execution_count": 22
        },
        {
            "cell_type": "markdown",
            "source": [
                "## Start a existing local SQL container"
            ],
            "metadata": {
                "azdata_cell_guid": "3e6129bc-0460-4ff0-98dd-d729201b30de"
            }
        },
        {
            "cell_type": "code",
            "source": [
                "docker start azuresqledge"
            ],
            "metadata": {
                "azdata_cell_guid": "b2a4f382-6c94-4f01-8970-81f14a780331"
            },
            "outputs": [
                {
                    "name": "stdout",
                    "text": "azuresqledge\n",
                    "output_type": "stream"
                }
            ],
            "execution_count": 20
        },
        {
            "cell_type": "markdown",
            "source": [
                "## Run a new local SQL container"
            ],
            "metadata": {
                "azdata_cell_guid": "8cf61b8b-22a6-481c-8870-181356de4331"
            }
        },
        {
            "cell_type": "code",
            "source": [
                "docker run -e ACCEPT_EULA=Y -e SA_PASSWORD=Passw0rd --label sqldev -p 1433:1433 --name azuresqledge -d mcr.microsoft.com/azure-sql-edge"
            ],
            "metadata": {
                "azdata_cell_guid": "69eec3db-4de4-4807-8024-719a0775844f"
            },
            "outputs": [
                {
                    "name": "stdout",
                    "text": "b3bd21355ec30f42d7bab11f7fa9a4861272a83b4beee8960f991b7ead99f452\n",
                    "output_type": "stream"
                },
                {
                    "name": "stdout",
                    "text": "",
                    "output_type": "stream"
                }
            ],
            "execution_count": 15
        },
        {
            "cell_type": "markdown",
            "source": [
                "## Stop a running SQL container"
            ],
            "metadata": {
                "azdata_cell_guid": "50e129de-1f94-4e0c-9a8e-1e25357a8f54"
            }
        },
        {
            "cell_type": "code",
            "source": [
                "docker stop azuresqledge"
            ],
            "metadata": {
                "azdata_cell_guid": "644d3e4b-8014-4b4e-81a0-206f53b067b5"
            },
            "outputs": [
                {
                    "name": "stdout",
                    "text": "azuresqledge\n",
                    "output_type": "stream"
                },
                {
                    "name": "stdout",
                    "text": "",
                    "output_type": "stream"
                }
            ],
            "execution_count": 18
        }
    ]
}