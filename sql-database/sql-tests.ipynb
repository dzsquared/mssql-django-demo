{
    "metadata": {
        "kernelspec": {
            "name": "SQL",
            "display_name": "SQL",
            "language": "sql"
        },
        "language_info": {
            "name": "sql",
            "version": ""
        }
    },
    "nbformat_minor": 2,
    "nbformat": 4,
    "cells": [
        {
            "cell_type": "markdown",
            "source": [
                "The following notebook runs through some sample queries against our database to test the updated model:\n",
                "\n",
                "1. list polls\n",
                "\n",
                "2. aggregate poll results"
            ],
            "metadata": {
                "azdata_cell_guid": "a744b9cf-7c87-4d49-a36d-bcfe2261430e"
            }
        },
        {
            "cell_type": "markdown",
            "source": [
                "## 0. Insert sample data"
            ],
            "metadata": {
                "azdata_cell_guid": "1eba26f8-7aa0-4292-acdc-7e3cdb1d6cb6"
            }
        },
        {
            "cell_type": "code",
            "source": [
                "insert into dbo.Polls values ()"
            ],
            "metadata": {
                "azdata_cell_guid": "5002fa50-ca7a-4baf-8ea1-5d7b78905c00"
            },
            "outputs": [],
            "execution_count": null
        },
        {
            "cell_type": "markdown",
            "source": [
                "## 1\\. List polls"
            ],
            "metadata": {
                "azdata_cell_guid": "b21362b3-42e3-4556-a1a8-e047d5f50dac"
            }
        },
        {
            "cell_type": "code",
            "source": [
                "select * from dbo.Polls"
            ],
            "metadata": {
                "azdata_cell_guid": "56d93d60-616c-48e0-99ce-d01befd88e35"
            },
            "outputs": [],
            "execution_count": null
        },
        {
            "cell_type": "markdown",
            "source": [
                "## 2. Aggregate Poll Results"
            ],
            "metadata": {
                "azdata_cell_guid": "550f9ca7-9619-4950-b5b9-b06af81f2d26"
            }
        }
    ]
}