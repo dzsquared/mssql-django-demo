{
    "metadata": {
        "kernelspec": {
            "name": "SQL",
            "display_name": "SQL",
            "language": "sql"
        },
        "language_info": {
            "name": "sql",
            "version": ""
        }
    },
    "nbformat_minor": 2,
    "nbformat": 4,
    "cells": [
        {
            "cell_type": "markdown",
            "source": [
                "The following notebook runs through some sample queries against our development database to test the deployed SQL project:\n",
                "\n",
                "1. list customers\n",
                "    \n",
                "2. aggregate information about customers"
            ],
            "metadata": {
                "azdata_cell_guid": "a744b9cf-7c87-4d49-a36d-bcfe2261430e"
            }
        },
        {
            "cell_type": "markdown",
            "source": [
                "## 0. Insert sample data"
            ],
            "metadata": {
                "azdata_cell_guid": "1eba26f8-7aa0-4292-acdc-7e3cdb1d6cb6"
            }
        },
        {
            "cell_type": "code",
            "source": [
                "insert into SalesLT.Customer (firstname, lastname,PasswordHash,passwordsalt)\r\n",
                "select 'Someone', 'ThisPerson', 'hashforpassword', 'salt'\r\n",
                "union select 'SomeoneElse', 'AnotherPerson', 'hashforpassword', 'moresalt'"
            ],
            "metadata": {
                "azdata_cell_guid": "5002fa50-ca7a-4baf-8ea1-5d7b78905c00"
            },
            "outputs": [
                {
                    "output_type": "display_data",
                    "data": {
                        "text/html": "(2 rows affected)"
                    },
                    "metadata": {}
                },
                {
                    "output_type": "display_data",
                    "data": {
                        "text/html": "Total execution time: 00:00:00.030"
                    },
                    "metadata": {}
                }
            ],
            "execution_count": 3
        },
        {
            "cell_type": "markdown",
            "source": [
                "## 1\\. List customers"
            ],
            "metadata": {
                "azdata_cell_guid": "b21362b3-42e3-4556-a1a8-e047d5f50dac"
            }
        },
        {
            "cell_type": "code",
            "source": [
                "select * from SalesLT.Customer"
            ],
            "metadata": {
                "azdata_cell_guid": "56d93d60-616c-48e0-99ce-d01befd88e35"
            },
            "outputs": [
                {
                    "output_type": "display_data",
                    "data": {
                        "text/html": "(2 rows affected)"
                    },
                    "metadata": {}
                },
                {
                    "output_type": "display_data",
                    "data": {
                        "text/html": "Total execution time: 00:00:00.085"
                    },
                    "metadata": {}
                },
                {
                    "output_type": "execute_result",
                    "execution_count": 4,
                    "data": {
                        "application/vnd.dataresource+json": {
                            "schema": {
                                "fields": [
                                    {
                                        "name": "CustomerID"
                                    },
                                    {
                                        "name": "NameStyle"
                                    },
                                    {
                                        "name": "Title"
                                    },
                                    {
                                        "name": "FirstName"
                                    },
                                    {
                                        "name": "MiddleName"
                                    },
                                    {
                                        "name": "LastName"
                                    },
                                    {
                                        "name": "Suffix"
                                    },
                                    {
                                        "name": "CompanyName"
                                    },
                                    {
                                        "name": "SalesPerson"
                                    },
                                    {
                                        "name": "EmailAddress"
                                    },
                                    {
                                        "name": "RewardsAcctId"
                                    },
                                    {
                                        "name": "SecondaryPhoneNumber"
                                    },
                                    {
                                        "name": "Phone"
                                    },
                                    {
                                        "name": "PasswordHash"
                                    },
                                    {
                                        "name": "PasswordSalt"
                                    },
                                    {
                                        "name": "rowguid"
                                    },
                                    {
                                        "name": "ModifiedDate"
                                    }
                                ]
                            },
                            "data": [
                                {
                                    "0": "2",
                                    "1": "0",
                                    "2": "NULL",
                                    "3": "Someone",
                                    "4": "NULL",
                                    "5": "ThisPerson",
                                    "6": "NULL",
                                    "7": "NULL",
                                    "8": "NULL",
                                    "9": "NULL",
                                    "10": "NULL",
                                    "11": "NULL",
                                    "12": "NULL",
                                    "13": "hashforpassword",
                                    "14": "salt",
                                    "15": "21a57acc-21b7-4aec-9027-2bbb980e9d3a",
                                    "16": "2021-06-10 03:29:39.497"
                                },
                                {
                                    "0": "3",
                                    "1": "0",
                                    "2": "NULL",
                                    "3": "SomeoneElse",
                                    "4": "NULL",
                                    "5": "AnotherPerson",
                                    "6": "NULL",
                                    "7": "NULL",
                                    "8": "NULL",
                                    "9": "NULL",
                                    "10": "NULL",
                                    "11": "NULL",
                                    "12": "NULL",
                                    "13": "hashforpassword",
                                    "14": "moresalt",
                                    "15": "0f4ce99c-5792-4b7d-80f8-d0bd3d07b61c",
                                    "16": "2021-06-10 03:29:39.497"
                                }
                            ]
                        },
                        "text/html": "<table><tr><th>CustomerID</th><th>NameStyle</th><th>Title</th><th>FirstName</th><th>MiddleName</th><th>LastName</th><th>Suffix</th><th>CompanyName</th><th>SalesPerson</th><th>EmailAddress</th><th>RewardsAcctId</th><th>SecondaryPhoneNumber</th><th>Phone</th><th>PasswordHash</th><th>PasswordSalt</th><th>rowguid</th><th>ModifiedDate</th></tr><tr><td>2</td><td>0</td><td>NULL</td><td>Someone</td><td>NULL</td><td>ThisPerson</td><td>NULL</td><td>NULL</td><td>NULL</td><td>NULL</td><td>NULL</td><td>NULL</td><td>NULL</td><td>hashforpassword</td><td>salt</td><td>21a57acc-21b7-4aec-9027-2bbb980e9d3a</td><td>2021-06-10 03:29:39.497</td></tr><tr><td>3</td><td>0</td><td>NULL</td><td>SomeoneElse</td><td>NULL</td><td>AnotherPerson</td><td>NULL</td><td>NULL</td><td>NULL</td><td>NULL</td><td>NULL</td><td>NULL</td><td>NULL</td><td>hashforpassword</td><td>moresalt</td><td>0f4ce99c-5792-4b7d-80f8-d0bd3d07b61c</td><td>2021-06-10 03:29:39.497</td></tr></table>"
                    },
                    "metadata": {}
                }
            ],
            "execution_count": 4
        },
        {
            "cell_type": "markdown",
            "source": [
                "## 2\\. Aggregate customer info\n",
                "\n",
                "Should display All\\_Customers: 2"
            ],
            "metadata": {
                "azdata_cell_guid": "550f9ca7-9619-4950-b5b9-b06af81f2d26"
            }
        },
        {
            "cell_type": "code",
            "source": [
                "select count(1) as All_Customers from SalesLT.Customer"
            ],
            "metadata": {
                "azdata_cell_guid": "0ca515fd-e3e4-4751-a1e5-e80cb82c7a67"
            },
            "outputs": [
                {
                    "output_type": "display_data",
                    "data": {
                        "text/html": "(1 row affected)"
                    },
                    "metadata": {}
                },
                {
                    "output_type": "display_data",
                    "data": {
                        "text/html": "Total execution time: 00:00:00.014"
                    },
                    "metadata": {}
                },
                {
                    "output_type": "execute_result",
                    "execution_count": 5,
                    "data": {
                        "application/vnd.dataresource+json": {
                            "schema": {
                                "fields": [
                                    {
                                        "name": "All_Customers"
                                    }
                                ]
                            },
                            "data": [
                                {
                                    "0": "2"
                                }
                            ]
                        },
                        "text/html": "<table><tr><th>All_Customers</th></tr><tr><td>2</td></tr></table>"
                    },
                    "metadata": {}
                }
            ],
            "execution_count": 5
        }
    ]
}